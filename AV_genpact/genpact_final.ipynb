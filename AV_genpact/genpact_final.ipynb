{
 "cells": [
  {
   "cell_type": "code",
   "execution_count": 278,
   "metadata": {},
   "outputs": [],
   "source": [
    "import warnings\n",
    "warnings.filterwarnings('ignore')"
   ]
  },
  {
   "cell_type": "code",
   "execution_count": 279,
   "metadata": {},
   "outputs": [],
   "source": [
    "import numpy as np\n",
    "import pandas as pd\n",
    "import re, random, time\n",
    "from  sklearn.metrics import mean_squared_log_error \n",
    "from  sklearn.metrics import mean_squared_log_error, mean_squared_error\n",
    "import lightgbm as lgb\n",
    "from sklearn.model_selection import KFold\n",
    "import matplotlib.pyplot as plt\n",
    "%matplotlib inline\n",
    "from scipy.stats.stats import pearsonr\n",
    "pd.options.display.max_columns = 1000"
   ]
  },
  {
   "cell_type": "code",
   "execution_count": 314,
   "metadata": {},
   "outputs": [],
   "source": [
    "df_train = pd.read_csv('train/train.csv', encoding=\"ISO-8859-1\")\n",
    "df_test = pd.read_csv('test.csv', encoding=\"ISO-8859-1\")\n",
    "fulfilment_center_info = pd.read_csv('train/fulfilment_center_info.csv')\n",
    "meal_info = pd.read_csv('train/meal_info.csv')"
   ]
  },
  {
   "cell_type": "code",
   "execution_count": 315,
   "metadata": {},
   "outputs": [
    {
     "name": "stdout",
     "output_type": "stream",
     "text": [
      "(32573, 15) (456548, 16) (179824, 16)\n"
     ]
    },
    {
     "data": {
      "text/html": [
       "<div>\n",
       "<style scoped>\n",
       "    .dataframe tbody tr th:only-of-type {\n",
       "        vertical-align: middle;\n",
       "    }\n",
       "\n",
       "    .dataframe tbody tr th {\n",
       "        vertical-align: top;\n",
       "    }\n",
       "\n",
       "    .dataframe thead th {\n",
       "        text-align: right;\n",
       "    }\n",
       "</style>\n",
       "<table border=\"1\" class=\"dataframe\">\n",
       "  <thead>\n",
       "    <tr style=\"text-align: right;\">\n",
       "      <th></th>\n",
       "      <th>Istrain</th>\n",
       "      <th>base_price</th>\n",
       "      <th>category</th>\n",
       "      <th>center_id</th>\n",
       "      <th>center_type</th>\n",
       "      <th>checkout_price</th>\n",
       "      <th>city_code</th>\n",
       "      <th>cuisine</th>\n",
       "      <th>emailer_for_promotion</th>\n",
       "      <th>homepage_featured</th>\n",
       "      <th>id</th>\n",
       "      <th>meal_id</th>\n",
       "      <th>num_orders</th>\n",
       "      <th>op_area</th>\n",
       "      <th>region_code</th>\n",
       "      <th>week</th>\n",
       "    </tr>\n",
       "  </thead>\n",
       "  <tbody>\n",
       "    <tr>\n",
       "      <th>32571</th>\n",
       "      <td>0</td>\n",
       "      <td>323.07</td>\n",
       "      <td>Salad</td>\n",
       "      <td>61</td>\n",
       "      <td>TYPE_A</td>\n",
       "      <td>322.07</td>\n",
       "      <td>473</td>\n",
       "      <td>Italian</td>\n",
       "      <td>0</td>\n",
       "      <td>0</td>\n",
       "      <td>1444235</td>\n",
       "      <td>2569</td>\n",
       "      <td>NaN</td>\n",
       "      <td>4.5</td>\n",
       "      <td>77</td>\n",
       "      <td>155</td>\n",
       "    </tr>\n",
       "    <tr>\n",
       "      <th>32572</th>\n",
       "      <td>0</td>\n",
       "      <td>276.45</td>\n",
       "      <td>Salad</td>\n",
       "      <td>61</td>\n",
       "      <td>TYPE_A</td>\n",
       "      <td>276.45</td>\n",
       "      <td>473</td>\n",
       "      <td>Italian</td>\n",
       "      <td>0</td>\n",
       "      <td>0</td>\n",
       "      <td>1291286</td>\n",
       "      <td>2490</td>\n",
       "      <td>NaN</td>\n",
       "      <td>4.5</td>\n",
       "      <td>77</td>\n",
       "      <td>155</td>\n",
       "    </tr>\n",
       "  </tbody>\n",
       "</table>\n",
       "</div>"
      ],
      "text/plain": [
       "       Istrain  base_price category  center_id center_type  checkout_price  \\\n",
       "32571        0      323.07    Salad         61      TYPE_A          322.07   \n",
       "32572        0      276.45    Salad         61      TYPE_A          276.45   \n",
       "\n",
       "       city_code  cuisine  emailer_for_promotion  homepage_featured       id  \\\n",
       "32571        473  Italian                      0                  0  1444235   \n",
       "32572        473  Italian                      0                  0  1291286   \n",
       "\n",
       "       meal_id  num_orders  op_area  region_code  week  \n",
       "32571     2569         NaN      4.5           77   155  \n",
       "32572     2490         NaN      4.5           77   155  "
      ]
     },
     "execution_count": 315,
     "metadata": {},
     "output_type": "execute_result"
    }
   ],
   "source": [
    "df_train = df_train.merge(fulfilment_center_info, how = 'left', on = 'center_id')\n",
    "df_train = df_train.merge(meal_info, how = 'left', on = 'meal_id')\n",
    "df_train['Istrain'] = 1\n",
    "\n",
    "df_test = df_test.merge(fulfilment_center_info, how = 'left', on = 'center_id')\n",
    "df_test = df_test.merge(meal_info, how = 'left', on = 'meal_id')\n",
    "df_test['Istrain'] = 0\n",
    "\n",
    "df_all = df_train.append(df_test)\n",
    "df_all = df_all[df_all.week > 100]\n",
    "print(df_test.shape, df_train.shape, df_all.shape)\n",
    "df_all.tail(2)"
   ]
  },
  {
   "cell_type": "code",
   "execution_count": 318,
   "metadata": {},
   "outputs": [],
   "source": [
    "avg_price_meal = df_all[['meal_id', 'base_price', 'checkout_price']].groupby('meal_id', as_index = False).mean()\n",
    "avg_price_meal.columns = ['meal_id', 'avg_base_price_meal', 'avg_checkout_price_meal']\n",
    "df_all = df_all.merge(avg_price_meal, how = 'left', on='meal_id')\n",
    "\n",
    "avg_price_center = df_all[['center_id', 'base_price', 'checkout_price']].groupby('center_id', as_index = False).mean()\n",
    "avg_price_center.columns = ['center_id', 'avg_base_price_center', 'avg_checkout_price_center']\n",
    "df_all = df_all.merge(avg_price_center, how = 'left', on='center_id')"
   ]
  },
  {
   "cell_type": "markdown",
   "metadata": {},
   "source": [
    "# categorical to numeric"
   ]
  },
  {
   "cell_type": "code",
   "execution_count": 320,
   "metadata": {},
   "outputs": [
    {
     "data": {
      "text/html": [
       "<div>\n",
       "<style scoped>\n",
       "    .dataframe tbody tr th:only-of-type {\n",
       "        vertical-align: middle;\n",
       "    }\n",
       "\n",
       "    .dataframe tbody tr th {\n",
       "        vertical-align: top;\n",
       "    }\n",
       "\n",
       "    .dataframe thead th {\n",
       "        text-align: right;\n",
       "    }\n",
       "</style>\n",
       "<table border=\"1\" class=\"dataframe\">\n",
       "  <thead>\n",
       "    <tr style=\"text-align: right;\">\n",
       "      <th></th>\n",
       "      <th>Istrain</th>\n",
       "      <th>base_price</th>\n",
       "      <th>category</th>\n",
       "      <th>center_id</th>\n",
       "      <th>center_type</th>\n",
       "      <th>checkout_price</th>\n",
       "      <th>city_code</th>\n",
       "      <th>cuisine</th>\n",
       "      <th>emailer_for_promotion</th>\n",
       "      <th>homepage_featured</th>\n",
       "      <th>id</th>\n",
       "      <th>meal_id</th>\n",
       "      <th>num_orders</th>\n",
       "      <th>op_area</th>\n",
       "      <th>region_code</th>\n",
       "      <th>week</th>\n",
       "      <th>avg_base_price_meal</th>\n",
       "      <th>avg_checkout_price_meal</th>\n",
       "      <th>avg_base_price_center</th>\n",
       "      <th>avg_checkout_price_center</th>\n",
       "    </tr>\n",
       "  </thead>\n",
       "  <tbody>\n",
       "    <tr>\n",
       "      <th>0</th>\n",
       "      <td>1</td>\n",
       "      <td>148.41</td>\n",
       "      <td>0</td>\n",
       "      <td>55</td>\n",
       "      <td>0</td>\n",
       "      <td>150.41</td>\n",
       "      <td>647</td>\n",
       "      <td>0</td>\n",
       "      <td>0</td>\n",
       "      <td>0</td>\n",
       "      <td>1117603</td>\n",
       "      <td>1885</td>\n",
       "      <td>242.0</td>\n",
       "      <td>2.0</td>\n",
       "      <td>56</td>\n",
       "      <td>101</td>\n",
       "      <td>134.066808</td>\n",
       "      <td>131.569177</td>\n",
       "      <td>356.627821</td>\n",
       "      <td>331.665534</td>\n",
       "    </tr>\n",
       "    <tr>\n",
       "      <th>1</th>\n",
       "      <td>1</td>\n",
       "      <td>150.38</td>\n",
       "      <td>0</td>\n",
       "      <td>55</td>\n",
       "      <td>0</td>\n",
       "      <td>151.38</td>\n",
       "      <td>647</td>\n",
       "      <td>0</td>\n",
       "      <td>0</td>\n",
       "      <td>0</td>\n",
       "      <td>1234967</td>\n",
       "      <td>1993</td>\n",
       "      <td>364.0</td>\n",
       "      <td>2.0</td>\n",
       "      <td>56</td>\n",
       "      <td>101</td>\n",
       "      <td>133.893845</td>\n",
       "      <td>131.774290</td>\n",
       "      <td>356.627821</td>\n",
       "      <td>331.665534</td>\n",
       "    </tr>\n",
       "  </tbody>\n",
       "</table>\n",
       "</div>"
      ],
      "text/plain": [
       "   Istrain  base_price  category  center_id  center_type  checkout_price  \\\n",
       "0        1      148.41         0         55            0          150.41   \n",
       "1        1      150.38         0         55            0          151.38   \n",
       "\n",
       "   city_code  cuisine  emailer_for_promotion  homepage_featured       id  \\\n",
       "0        647        0                      0                  0  1117603   \n",
       "1        647        0                      0                  0  1234967   \n",
       "\n",
       "   meal_id  num_orders  op_area  region_code  week  avg_base_price_meal  \\\n",
       "0     1885       242.0      2.0           56   101           134.066808   \n",
       "1     1993       364.0      2.0           56   101           133.893845   \n",
       "\n",
       "   avg_checkout_price_meal  avg_base_price_center  avg_checkout_price_center  \n",
       "0               131.569177             356.627821                 331.665534  \n",
       "1               131.774290             356.627821                 331.665534  "
      ]
     },
     "execution_count": 320,
     "metadata": {},
     "output_type": "execute_result"
    }
   ],
   "source": [
    "cat_columns = [x for x in df_all.columns if df_all[x].dtype == 'O']\n",
    "for col in cat_columns:\n",
    "    df_all[col] = pd.factorize(df_all[col])[0]\n",
    "df_all.head(2)"
   ]
  },
  {
   "cell_type": "code",
   "execution_count": 321,
   "metadata": {},
   "outputs": [
    {
     "data": {
      "text/html": [
       "<div>\n",
       "<style scoped>\n",
       "    .dataframe tbody tr th:only-of-type {\n",
       "        vertical-align: middle;\n",
       "    }\n",
       "\n",
       "    .dataframe tbody tr th {\n",
       "        vertical-align: top;\n",
       "    }\n",
       "\n",
       "    .dataframe thead th {\n",
       "        text-align: right;\n",
       "    }\n",
       "</style>\n",
       "<table border=\"1\" class=\"dataframe\">\n",
       "  <thead>\n",
       "    <tr style=\"text-align: right;\">\n",
       "      <th></th>\n",
       "      <th>Istrain</th>\n",
       "      <th>base_price</th>\n",
       "      <th>category</th>\n",
       "      <th>center_id</th>\n",
       "      <th>center_type</th>\n",
       "      <th>checkout_price</th>\n",
       "      <th>city_code</th>\n",
       "      <th>cuisine</th>\n",
       "      <th>emailer_for_promotion</th>\n",
       "      <th>homepage_featured</th>\n",
       "      <th>id</th>\n",
       "      <th>meal_id</th>\n",
       "      <th>num_orders</th>\n",
       "      <th>op_area</th>\n",
       "      <th>region_code</th>\n",
       "      <th>week</th>\n",
       "      <th>avg_base_price_meal</th>\n",
       "      <th>avg_checkout_price_meal</th>\n",
       "      <th>avg_base_price_center</th>\n",
       "      <th>avg_checkout_price_center</th>\n",
       "    </tr>\n",
       "  </thead>\n",
       "  <tbody>\n",
       "    <tr>\n",
       "      <th>179822</th>\n",
       "      <td>0</td>\n",
       "      <td>323.07</td>\n",
       "      <td>11</td>\n",
       "      <td>61</td>\n",
       "      <td>2</td>\n",
       "      <td>322.07</td>\n",
       "      <td>473</td>\n",
       "      <td>2</td>\n",
       "      <td>0</td>\n",
       "      <td>0</td>\n",
       "      <td>1444235</td>\n",
       "      <td>2569</td>\n",
       "      <td>NaN</td>\n",
       "      <td>4.5</td>\n",
       "      <td>77</td>\n",
       "      <td>155</td>\n",
       "      <td>309.738657</td>\n",
       "      <td>302.364965</td>\n",
       "      <td>365.729666</td>\n",
       "      <td>346.15915</td>\n",
       "    </tr>\n",
       "    <tr>\n",
       "      <th>179823</th>\n",
       "      <td>0</td>\n",
       "      <td>276.45</td>\n",
       "      <td>11</td>\n",
       "      <td>61</td>\n",
       "      <td>2</td>\n",
       "      <td>276.45</td>\n",
       "      <td>473</td>\n",
       "      <td>2</td>\n",
       "      <td>0</td>\n",
       "      <td>0</td>\n",
       "      <td>1291286</td>\n",
       "      <td>2490</td>\n",
       "      <td>NaN</td>\n",
       "      <td>4.5</td>\n",
       "      <td>77</td>\n",
       "      <td>155</td>\n",
       "      <td>275.698266</td>\n",
       "      <td>268.471351</td>\n",
       "      <td>365.729666</td>\n",
       "      <td>346.15915</td>\n",
       "    </tr>\n",
       "  </tbody>\n",
       "</table>\n",
       "</div>"
      ],
      "text/plain": [
       "        Istrain  base_price  category  center_id  center_type  checkout_price  \\\n",
       "179822        0      323.07        11         61            2          322.07   \n",
       "179823        0      276.45        11         61            2          276.45   \n",
       "\n",
       "        city_code  cuisine  emailer_for_promotion  homepage_featured       id  \\\n",
       "179822        473        2                      0                  0  1444235   \n",
       "179823        473        2                      0                  0  1291286   \n",
       "\n",
       "        meal_id  num_orders  op_area  region_code  week  avg_base_price_meal  \\\n",
       "179822     2569         NaN      4.5           77   155           309.738657   \n",
       "179823     2490         NaN      4.5           77   155           275.698266   \n",
       "\n",
       "        avg_checkout_price_meal  avg_base_price_center  \\\n",
       "179822               302.364965             365.729666   \n",
       "179823               268.471351             365.729666   \n",
       "\n",
       "        avg_checkout_price_center  \n",
       "179822                  346.15915  \n",
       "179823                  346.15915  "
      ]
     },
     "execution_count": 321,
     "metadata": {},
     "output_type": "execute_result"
    }
   ],
   "source": [
    "df_all.tail(2)"
   ]
  },
  {
   "cell_type": "markdown",
   "metadata": {},
   "source": [
    "# create rolling num of orders column "
   ]
  },
  {
   "cell_type": "code",
   "execution_count": 322,
   "metadata": {},
   "outputs": [
    {
     "name": "stdout",
     "output_type": "stream",
     "text": [
      "10 (179824, 20)\n"
     ]
    },
    {
     "data": {
      "text/html": [
       "<div>\n",
       "<style scoped>\n",
       "    .dataframe tbody tr th:only-of-type {\n",
       "        vertical-align: middle;\n",
       "    }\n",
       "\n",
       "    .dataframe tbody tr th {\n",
       "        vertical-align: top;\n",
       "    }\n",
       "\n",
       "    .dataframe thead th {\n",
       "        text-align: right;\n",
       "    }\n",
       "</style>\n",
       "<table border=\"1\" class=\"dataframe\">\n",
       "  <thead>\n",
       "    <tr style=\"text-align: right;\">\n",
       "      <th></th>\n",
       "      <th>Istrain</th>\n",
       "      <th>base_price</th>\n",
       "      <th>category</th>\n",
       "      <th>center_id</th>\n",
       "      <th>center_type</th>\n",
       "      <th>checkout_price</th>\n",
       "      <th>city_code</th>\n",
       "      <th>cuisine</th>\n",
       "      <th>emailer_for_promotion</th>\n",
       "      <th>homepage_featured</th>\n",
       "      <th>id</th>\n",
       "      <th>meal_id</th>\n",
       "      <th>num_orders</th>\n",
       "      <th>op_area</th>\n",
       "      <th>region_code</th>\n",
       "      <th>week</th>\n",
       "      <th>avg_base_price_meal</th>\n",
       "      <th>avg_checkout_price_meal</th>\n",
       "      <th>avg_base_price_center</th>\n",
       "      <th>avg_checkout_price_center</th>\n",
       "      <th>num_orders_10_week</th>\n",
       "    </tr>\n",
       "  </thead>\n",
       "  <tbody>\n",
       "    <tr>\n",
       "      <th>0</th>\n",
       "      <td>1</td>\n",
       "      <td>148.41</td>\n",
       "      <td>0</td>\n",
       "      <td>55</td>\n",
       "      <td>0</td>\n",
       "      <td>150.41</td>\n",
       "      <td>647</td>\n",
       "      <td>0</td>\n",
       "      <td>0</td>\n",
       "      <td>0</td>\n",
       "      <td>1117603</td>\n",
       "      <td>1885</td>\n",
       "      <td>242.0</td>\n",
       "      <td>2.0</td>\n",
       "      <td>56</td>\n",
       "      <td>101</td>\n",
       "      <td>134.066808</td>\n",
       "      <td>131.569177</td>\n",
       "      <td>356.627821</td>\n",
       "      <td>331.665534</td>\n",
       "      <td>NaN</td>\n",
       "    </tr>\n",
       "    <tr>\n",
       "      <th>1</th>\n",
       "      <td>1</td>\n",
       "      <td>150.38</td>\n",
       "      <td>0</td>\n",
       "      <td>55</td>\n",
       "      <td>0</td>\n",
       "      <td>151.38</td>\n",
       "      <td>647</td>\n",
       "      <td>0</td>\n",
       "      <td>0</td>\n",
       "      <td>0</td>\n",
       "      <td>1234967</td>\n",
       "      <td>1993</td>\n",
       "      <td>364.0</td>\n",
       "      <td>2.0</td>\n",
       "      <td>56</td>\n",
       "      <td>101</td>\n",
       "      <td>133.893845</td>\n",
       "      <td>131.774290</td>\n",
       "      <td>356.627821</td>\n",
       "      <td>331.665534</td>\n",
       "      <td>NaN</td>\n",
       "    </tr>\n",
       "    <tr>\n",
       "      <th>2</th>\n",
       "      <td>1</td>\n",
       "      <td>148.44</td>\n",
       "      <td>0</td>\n",
       "      <td>55</td>\n",
       "      <td>0</td>\n",
       "      <td>149.44</td>\n",
       "      <td>647</td>\n",
       "      <td>0</td>\n",
       "      <td>0</td>\n",
       "      <td>0</td>\n",
       "      <td>1438865</td>\n",
       "      <td>2539</td>\n",
       "      <td>216.0</td>\n",
       "      <td>2.0</td>\n",
       "      <td>56</td>\n",
       "      <td>101</td>\n",
       "      <td>134.447554</td>\n",
       "      <td>132.124974</td>\n",
       "      <td>356.627821</td>\n",
       "      <td>331.665534</td>\n",
       "      <td>NaN</td>\n",
       "    </tr>\n",
       "    <tr>\n",
       "      <th>3</th>\n",
       "      <td>1</td>\n",
       "      <td>308.49</td>\n",
       "      <td>0</td>\n",
       "      <td>55</td>\n",
       "      <td>0</td>\n",
       "      <td>308.49</td>\n",
       "      <td>647</td>\n",
       "      <td>1</td>\n",
       "      <td>0</td>\n",
       "      <td>0</td>\n",
       "      <td>1190381</td>\n",
       "      <td>2139</td>\n",
       "      <td>15.0</td>\n",
       "      <td>2.0</td>\n",
       "      <td>56</td>\n",
       "      <td>101</td>\n",
       "      <td>291.530320</td>\n",
       "      <td>290.480827</td>\n",
       "      <td>356.627821</td>\n",
       "      <td>331.665534</td>\n",
       "      <td>NaN</td>\n",
       "    </tr>\n",
       "    <tr>\n",
       "      <th>4</th>\n",
       "      <td>1</td>\n",
       "      <td>153.26</td>\n",
       "      <td>0</td>\n",
       "      <td>55</td>\n",
       "      <td>0</td>\n",
       "      <td>96.09</td>\n",
       "      <td>647</td>\n",
       "      <td>1</td>\n",
       "      <td>0</td>\n",
       "      <td>0</td>\n",
       "      <td>1027460</td>\n",
       "      <td>2631</td>\n",
       "      <td>80.0</td>\n",
       "      <td>2.0</td>\n",
       "      <td>56</td>\n",
       "      <td>101</td>\n",
       "      <td>155.105565</td>\n",
       "      <td>131.498419</td>\n",
       "      <td>356.627821</td>\n",
       "      <td>331.665534</td>\n",
       "      <td>NaN</td>\n",
       "    </tr>\n",
       "  </tbody>\n",
       "</table>\n",
       "</div>"
      ],
      "text/plain": [
       "   Istrain  base_price  category  center_id  center_type  checkout_price  \\\n",
       "0        1      148.41         0         55            0          150.41   \n",
       "1        1      150.38         0         55            0          151.38   \n",
       "2        1      148.44         0         55            0          149.44   \n",
       "3        1      308.49         0         55            0          308.49   \n",
       "4        1      153.26         0         55            0           96.09   \n",
       "\n",
       "   city_code  cuisine  emailer_for_promotion  homepage_featured       id  \\\n",
       "0        647        0                      0                  0  1117603   \n",
       "1        647        0                      0                  0  1234967   \n",
       "2        647        0                      0                  0  1438865   \n",
       "3        647        1                      0                  0  1190381   \n",
       "4        647        1                      0                  0  1027460   \n",
       "\n",
       "   meal_id  num_orders  op_area  region_code  week  avg_base_price_meal  \\\n",
       "0     1885       242.0      2.0           56   101           134.066808   \n",
       "1     1993       364.0      2.0           56   101           133.893845   \n",
       "2     2539       216.0      2.0           56   101           134.447554   \n",
       "3     2139        15.0      2.0           56   101           291.530320   \n",
       "4     2631        80.0      2.0           56   101           155.105565   \n",
       "\n",
       "   avg_checkout_price_meal  avg_base_price_center  avg_checkout_price_center  \\\n",
       "0               131.569177             356.627821                 331.665534   \n",
       "1               131.774290             356.627821                 331.665534   \n",
       "2               132.124974             356.627821                 331.665534   \n",
       "3               290.480827             356.627821                 331.665534   \n",
       "4               131.498419             356.627821                 331.665534   \n",
       "\n",
       "   num_orders_10_week  \n",
       "0                 NaN  \n",
       "1                 NaN  \n",
       "2                 NaN  \n",
       "3                 NaN  \n",
       "4                 NaN  "
      ]
     },
     "execution_count": 322,
     "metadata": {},
     "output_type": "execute_result"
    }
   ],
   "source": [
    "for i in [10]:\n",
    "    print (i, df_all.shape)\n",
    "    df_all_sorted = df_all[[ 'center_id', 'meal_id', 'week', 'num_orders']].sort_values(by = \\\n",
    "                                                        ['center_id', 'meal_id', 'week'])\n",
    "    temp1 = df_all_sorted.groupby(['center_id', 'meal_id']).apply(lambda x: x.set_index('week'))\n",
    "    temp2 = temp1.groupby(['center_id', 'meal_id'])['num_orders'].apply(lambda x: x.shift()\\\n",
    "            .rolling(min_periods = 1, window = i).mean()).reset_index(name ='num_orders_' + str(i) + '_week')\n",
    "    df_all = df_all.merge(temp2, how = 'left', on = ['center_id', 'meal_id', 'week'])\n",
    "    \n",
    "df_all.head()"
   ]
  },
  {
   "cell_type": "code",
   "execution_count": 323,
   "metadata": {},
   "outputs": [
    {
     "name": "stdout",
     "output_type": "stream",
     "text": [
      "base_price -0.2152\n",
      "category -0.18714\n",
      "center_id -0.06586\n",
      "center_type 0.03548\n",
      "checkout_price -0.26679\n",
      "city_code 0.048\n",
      "cuisine -0.04567\n",
      "emailer_for_promotion 0.28384\n",
      "homepage_featured 0.28437\n",
      "id 0.00019\n",
      "meal_id 0.00614\n",
      "num_orders 1.0\n",
      "op_area 0.19561\n",
      "region_code 0.03298\n",
      "week -0.03221\n",
      "avg_base_price_meal -0.22545\n",
      "avg_checkout_price_meal -0.22523\n",
      "avg_base_price_center 0.08925\n",
      "avg_checkout_price_center 0.07291\n",
      "num_orders_10_week 0.73613\n"
     ]
    }
   ],
   "source": [
    "for col in [x for x in df_all.columns if df_all[x].dtype != 'O' and x != 'Istrain']:\n",
    "    temp = df_all[(~df_all.num_orders.isnull()) & (~df_all[col].isnull())]\n",
    "    print (col, np.round(pearsonr(temp.num_orders, temp[col])[0],5) )"
   ]
  },
  {
   "cell_type": "code",
   "execution_count": 324,
   "metadata": {},
   "outputs": [
    {
     "data": {
      "text/plain": [
       "((179824, 21), (32573, 15), (456548, 16))"
      ]
     },
     "execution_count": 324,
     "metadata": {},
     "output_type": "execute_result"
    }
   ],
   "source": [
    "df_all.shape, df_test.shape, df_train.shape"
   ]
  },
  {
   "cell_type": "code",
   "execution_count": 325,
   "metadata": {
    "scrolled": false
   },
   "outputs": [],
   "source": [
    "# import pandas_profiling\n",
    "# pandas_profiling.ProfileReport(df_all)"
   ]
  },
  {
   "cell_type": "code",
   "execution_count": 326,
   "metadata": {},
   "outputs": [],
   "source": [
    "# df_all[(df_all.center_id == 23) & (df_all.meal_id == 1198)].iloc[:,[12,15,24,25,26,27,28,29,30,31,32,33]].tail(20)\n",
    "# iloc[:,[12,15,24,25,26,27,28,29,30,31,32]]"
   ]
  },
  {
   "cell_type": "markdown",
   "metadata": {},
   "source": [
    "# separating train and test dataset"
   ]
  },
  {
   "cell_type": "code",
   "execution_count": 327,
   "metadata": {},
   "outputs": [
    {
     "name": "stdout",
     "output_type": "stream",
     "text": [
      "(32573, 20) (147251, 20) (179824, 21)\n"
     ]
    }
   ],
   "source": [
    "df_train = df_all[df_all.week < 146].reset_index(drop =  True).drop('Istrain', axis = 1)\n",
    "df_test = df_all[df_all.week >= 146].reset_index(drop = True).drop('Istrain', axis = 1)\n",
    "print(df_test.shape, df_train.shape, df_all.shape)"
   ]
  },
  {
   "cell_type": "markdown",
   "metadata": {},
   "source": [
    "# splitting train into train and valid dataset"
   ]
  },
  {
   "cell_type": "code",
   "execution_count": 328,
   "metadata": {},
   "outputs": [
    {
     "name": "stdout",
     "output_type": "stream",
     "text": [
      "(114430, 20) (32821, 20)\n"
     ]
    }
   ],
   "source": [
    "df_train1 = df_train[df_train.week <= 135].sample(frac=1)\n",
    "df_valid1 = df_train[df_train.week > 135]\n",
    "print(df_train1.shape, df_valid1.shape)"
   ]
  },
  {
   "cell_type": "code",
   "execution_count": 329,
   "metadata": {},
   "outputs": [
    {
     "name": "stdout",
     "output_type": "stream",
     "text": [
      "(114430, 15) (114430,) (32573, 15) (32821, 15)\n"
     ]
    }
   ],
   "source": [
    "train_X_all = df_train.drop(['week', 'id', 'num_orders', 'center_id', 'meal_id',], axis = 1)\n",
    "train_Y_all = df_train.num_orders\n",
    "train_X = df_train1.drop(['week', 'id','num_orders', 'center_id', 'meal_id',], axis = 1)\n",
    "train_Y = df_train1.num_orders\n",
    "valid_X = df_valid1.drop(['week', 'id','num_orders', 'center_id', 'meal_id',], axis = 1)\n",
    "valid_Y = df_valid1.num_orders\n",
    "test_X = df_test.drop(['week', 'id', 'num_orders', 'center_id', 'meal_id',], axis = 1)\n",
    "print(train_X.shape, train_Y.shape, test_X.shape, valid_X.shape)"
   ]
  },
  {
   "cell_type": "code",
   "execution_count": 330,
   "metadata": {},
   "outputs": [],
   "source": [
    "def rmsle(y_hat, data):\n",
    "#     print (data)\n",
    "    y_true = data.get_label() # scikits f1 doesn't like probabilities\n",
    "    y_hat[y_hat < 0] = 0\n",
    "    return 'RMSLE', -np.sqrt(mean_squared_log_error(y_true, y_hat)) * 100, True"
   ]
  },
  {
   "cell_type": "markdown",
   "metadata": {},
   "source": [
    "# hyperparameter search"
   ]
  },
  {
   "cell_type": "code",
   "execution_count": 331,
   "metadata": {},
   "outputs": [],
   "source": [
    "# from hyperopt import hp\n",
    "# from hyperopt import fmin, tpe, hp, STATUS_OK, Trials\n",
    "# # X_train, X_test, y_train, y_test\n",
    "\n",
    "# def score(params):\n",
    "#     print (\"Training with params : \")\n",
    "#     print (params)\n",
    "#     num_round = int(params['n_estimators'])\n",
    "#     del params['n_estimators']\n",
    "#     dtrain = lgb.Dataset(train_X, label = train_Y.values)\n",
    "#     dvalid = lgb.Dataset(valid_X, label = valid_Y.values)\n",
    "#     # watchlist = [(dvalid, 'eval'), (dtrain, 'train')]\n",
    "#     model = lgb.train(params, dtrain, num_round)\n",
    "#     print ('model.best_iteration', model.best_iteration)\n",
    "#     predictions = model.predict(valid_X)\n",
    "#     score = np.sqrt(mean_squared_log_error(valid_Y, predictions)) * 100\n",
    "#     print (\"\\tScore {0}\\n\\n\".format(score))\n",
    "#     return {'loss': score, 'status': STATUS_OK}\n",
    "\n",
    "# def optimize(trials):\n",
    "#     space = {\n",
    "#              'n_estimators' : hp.quniform('n_estimators', 300, 4000, 1),\n",
    "#              'learning_rate' : hp.quniform('learning_rate', 0.005, 0.5, 0.025),\n",
    "#              'max_depth' : hp.choice('max_depth', np.arange(1, 13, dtype=int)),\n",
    "#              'min_child_weight' : hp.quniform('min_child_weight', 1, 6, 1), \n",
    "#              'subsample' : hp.quniform('subsample', 0.5, 1, 0.05),\n",
    "#              'lambda_l1' : hp.quniform('lambda_l1', 0, 1, 0.05),\n",
    "#              'lambda_l2' : hp.quniform('lambda_l2', 0.5, 1, 0.05),\n",
    "#              'cat_l2' : hp.quniform('cat_l2', 0.5, 1, 0.05),\n",
    "#              'feature_fraction' : hp.quniform('feature_fraction', 0.5, 1, 0.05),\n",
    "#              'metric': 'rmsle',\n",
    "#              'objective': 'gamma',\n",
    "#              'nthread' : 6,\n",
    "#              'silent' : 1\n",
    "#              }\n",
    "\n",
    "#     best = fmin(score, space, algo=tpe.suggest, trials=trials, max_evals= 40)\n",
    "#     print (best)\n",
    "    \n",
    "# #Trials object where the history of search will be stored\n",
    "# trials = Trials()\n",
    "# optimize(trials)"
   ]
  },
  {
   "cell_type": "code",
   "execution_count": 332,
   "metadata": {},
   "outputs": [],
   "source": [
    "# results = trials.best_trial['misc']['vals']\n",
    "# results"
   ]
  },
  {
   "cell_type": "code",
   "execution_count": 333,
   "metadata": {
    "scrolled": false
   },
   "outputs": [
    {
     "name": "stdout",
     "output_type": "stream",
     "text": [
      "Training until validation scores don't improve for 200 rounds.\n",
      "[100]\tvalid_0's RMSLE: -52.0159\n",
      "[200]\tvalid_0's RMSLE: -50.7941\n",
      "[300]\tvalid_0's RMSLE: -50.3426\n",
      "[400]\tvalid_0's RMSLE: -50.074\n",
      "[500]\tvalid_0's RMSLE: -49.8834\n",
      "[600]\tvalid_0's RMSLE: -49.7615\n",
      "[700]\tvalid_0's RMSLE: -49.6404\n",
      "[800]\tvalid_0's RMSLE: -49.5745\n",
      "[900]\tvalid_0's RMSLE: -49.5067\n",
      "[1000]\tvalid_0's RMSLE: -49.4491\n",
      "[1100]\tvalid_0's RMSLE: -49.4155\n",
      "[1200]\tvalid_0's RMSLE: -49.3875\n",
      "[1300]\tvalid_0's RMSLE: -49.368\n",
      "[1400]\tvalid_0's RMSLE: -49.3556\n",
      "[1500]\tvalid_0's RMSLE: -49.3359\n",
      "[1600]\tvalid_0's RMSLE: -49.332\n",
      "[1700]\tvalid_0's RMSLE: -49.3196\n",
      "[1800]\tvalid_0's RMSLE: -49.3321\n",
      "[1900]\tvalid_0's RMSLE: -49.3337\n",
      "Early stopping, best iteration is:\n",
      "[1711]\tvalid_0's RMSLE: -49.3178\n",
      "Plot feature importances...\n"
     ]
    },
    {
     "data": {
      "image/png": "[encoded data removed]",
      "text/plain": [
       "<matplotlib.figure.Figure at 0x1128e2208>"
      ]
     },
     "metadata": {},
     "output_type": "display_data"
    }
   ],
   "source": [
    "params = { \n",
    "    'learning_rate': 0.05, \n",
    "    'boosting': 'gbdt', \n",
    "    'objective': 'gamma', \n",
    "    'metric': 'rmsle',\n",
    "    'is_training_metric': True, \n",
    "    'seed': 0 \n",
    "}\n",
    "\n",
    "fit_model = lgb.train( params, train_set= lgb.Dataset(train_X, label=train_Y.values), num_boost_round= 5000,\n",
    "            valid_sets = [lgb.Dataset(valid_X, label=valid_Y.values)], feval = rmsle,  verbose_eval = 100, \\\n",
    "            categorical_feature=['region_code','city_code', 'category',\\\n",
    "                                 'center_type', 'cuisine']  ,early_stopping_rounds = 200)\n",
    "\n",
    "valid_pred = fit_model.predict(valid_X, num_iteration=fit_model.best_iteration)\n",
    "train_pred = fit_model.predict(train_X, num_iteration=fit_model.best_iteration)\n",
    "test_pred = fit_model.predict(test_X, num_iteration=fit_model.best_iteration)\n",
    "\n",
    "print('Plot feature importances...')\n",
    "ax = lgb.plot_importance(fit_model, max_num_features=20)\n",
    "plt.show()"
   ]
  },
  {
   "cell_type": "markdown",
   "metadata": {},
   "source": [
    "# train on full data"
   ]
  },
  {
   "cell_type": "code",
   "execution_count": 306,
   "metadata": {},
   "outputs": [
    {
     "data": {
      "text/plain": [
       "3485"
      ]
     },
     "execution_count": 306,
     "metadata": {},
     "output_type": "execute_result"
    }
   ],
   "source": [
    "fit_model.best_iteration"
   ]
  },
  {
   "cell_type": "code",
   "execution_count": 308,
   "metadata": {},
   "outputs": [],
   "source": [
    "n_rounds = int(len(train_X_all)/len(train_X) * fit_model.best_iteration)\n",
    "final_model = lgb.train( params, train_set= lgb.Dataset(train_X_all, label=train_Y_all.values), \\\n",
    "                      num_boost_round= n_rounds, feval = rmsle,  verbose_eval = 50, \\\n",
    "            categorical_feature=['region_code','city_code', 'category', 'center_type', \\\n",
    "                                 'cuisine'])"
   ]
  },
  {
   "cell_type": "code",
   "execution_count": 309,
   "metadata": {},
   "outputs": [],
   "source": [
    "test_pred = final_model.predict(test_X, num_iteration=n_rounds)"
   ]
  },
  {
   "cell_type": "code",
   "execution_count": 310,
   "metadata": {},
   "outputs": [
    {
     "data": {
      "text/html": [
       "<div>\n",
       "<style scoped>\n",
       "    .dataframe tbody tr th:only-of-type {\n",
       "        vertical-align: middle;\n",
       "    }\n",
       "\n",
       "    .dataframe tbody tr th {\n",
       "        vertical-align: top;\n",
       "    }\n",
       "\n",
       "    .dataframe thead th {\n",
       "        text-align: right;\n",
       "    }\n",
       "</style>\n",
       "<table border=\"1\" class=\"dataframe\">\n",
       "  <thead>\n",
       "    <tr style=\"text-align: right;\">\n",
       "      <th></th>\n",
       "      <th>id</th>\n",
       "      <th>num_orders</th>\n",
       "    </tr>\n",
       "  </thead>\n",
       "  <tbody>\n",
       "    <tr>\n",
       "      <th>0</th>\n",
       "      <td>1028232</td>\n",
       "      <td>92.159214</td>\n",
       "    </tr>\n",
       "    <tr>\n",
       "      <th>1</th>\n",
       "      <td>1127204</td>\n",
       "      <td>105.389808</td>\n",
       "    </tr>\n",
       "  </tbody>\n",
       "</table>\n",
       "</div>"
      ],
      "text/plain": [
       "        id  num_orders\n",
       "0  1028232   92.159214\n",
       "1  1127204  105.389808"
      ]
     },
     "execution_count": 310,
     "metadata": {},
     "output_type": "execute_result"
    }
   ],
   "source": [
    "submission = pd.read_csv('sample_submission_hSlSoT6.csv')\n",
    "submission.num_orders = test_pred\n",
    "submission.num_orders = [0 if x <= 0 else x for x in submission.num_orders ]\n",
    "submission.head(2)"
   ]
  },
  {
   "cell_type": "code",
   "execution_count": 311,
   "metadata": {},
   "outputs": [],
   "source": [
    "submission.to_csv('lgb_gamma_0.05_0.4855_avg10_only.csv', index=False)"
   ]
  }
 ],
 "metadata": {
  "kernelspec": {
   "display_name": "Python 3",
   "language": "python",
   "name": "python3"
  },
  "language_info": {
   "codemirror_mode": {
    "name": "ipython",
    "version": 3
   },
   "file_extension": ".py",
   "mimetype": "text/x-python",
   "name": "python",
   "nbconvert_exporter": "python",
   "pygments_lexer": "ipython3",
   "version": "3.6.3"
  }
 },
 "nbformat": 4,
 "nbformat_minor": 2
}
